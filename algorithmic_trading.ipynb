{
 "cells": [
  {
   "cell_type": "markdown",
   "metadata": {},
   "source": [
    "# Import packages and API Setup"
   ]
  },
  {
   "cell_type": "markdown",
   "metadata": {},
   "source": [
    "## Import packages"
   ]
  },
  {
   "cell_type": "code",
   "execution_count": 1,
   "metadata": {},
   "outputs": [],
   "source": [
    "# Data manipulation\n",
    "import datetime as dt\n",
    "import numpy as np\n",
    "import pandas as pd\n",
    "pd.set_option('display.max_columns', None) # Remove column display limit\n",
    "import pandas_datareader.data as web\n",
    "\n",
    "# Stats\n",
    "import statsmodels.api as sm\n",
    "from statsmodels.regression.rolling import RollingOLS\n",
    "\n",
    "# Visualization\n",
    "import matplotlib.pyplot as plt\n",
    "import seaborn as sns\n",
    "\n",
    "# Data Fetch\n",
    "import requests\n",
    "import yfinance as yf\n"
   ]
  },
  {
   "cell_type": "markdown",
   "metadata": {},
   "source": [
    "## API setup and configuration "
   ]
  },
  {
   "cell_type": "markdown",
   "metadata": {},
   "source": [
    "### Alpha Vantage"
   ]
  },
  {
   "cell_type": "markdown",
   "metadata": {},
   "source": [
    "[Alpha Vantage API Documentation](https://www.alphavantage.co/documentation/#)"
   ]
  },
  {
   "cell_type": "code",
   "execution_count": 2,
   "metadata": {},
   "outputs": [],
   "source": [
    "# Import dotenv_values and load the API key from .env file\n",
    "from dotenv import dotenv_values \n",
    "secrets = dotenv_values(\"secrets/.env\")\n",
    "alpha_key = secrets[\"alphavantage_key\"]"
   ]
  },
  {
   "cell_type": "markdown",
   "metadata": {},
   "source": [
    "#### Search Endpoint"
   ]
  },
  {
   "cell_type": "markdown",
   "metadata": {},
   "source": [
    "[Documentation](https://www.alphavantage.co/documentation/#symbolsearch)  \n",
    "\n",
    "The Search Endpoint returns the best-matching symbols and market information based on keywords of your choice. The search results also contain match scores that provide you with the full flexibility to develop your own search and filtering logic.  "
   ]
  },
  {
   "cell_type": "code",
   "execution_count": 3,
   "metadata": {},
   "outputs": [],
   "source": [
    "# Function to search for symbols based on a keyword\n",
    "def av_search(keyword):\n",
    "    # Base URL\n",
    "    base_url = \"https://www.alphavantage.co/query?function=SYMBOL_SEARCH&keywords={keyword}&apikey={apikey}\"\n",
    "\n",
    "    # API key for authentication\n",
    "    api_key = alpha_key\n",
    "\n",
    "    # Construct the full URL\n",
    "    url = base_url.format(keyword=keyword, apikey=api_key)\n",
    "\n",
    "    # Send HTTP GET request to fetch data\n",
    "    response = requests.get(url)\n",
    "    \n",
    "    # Parse the response as JSON\n",
    "    response_json = response.json()\n",
    "    \n",
    "    # Create a DataFrame from the 'bestMatches' section of the JSON response\n",
    "    df_results = pd.DataFrame(response_json.get('bestMatches', []))\n",
    "\n",
    "    return df_results"
   ]
  },
  {
   "cell_type": "markdown",
   "metadata": {},
   "source": [
    "#### Time Series Daily"
   ]
  },
  {
   "cell_type": "markdown",
   "metadata": {},
   "source": [
    "[Documentation](https://www.alphavantage.co/documentation/#daily)  \n",
    "\n",
    "This API returns raw (as-traded) daily time series (date, daily open, daily high, daily low, daily close, daily volume) of the global equity specified, covering 20+ years of historical data. The OHLCV data is sometimes called \"candles\" in finance literature. "
   ]
  },
  {
   "cell_type": "code",
   "execution_count": 4,
   "metadata": {},
   "outputs": [],
   "source": [
    "# Function to fetch daily stock data\n",
    "def av_daily(symbol, output_size):\n",
    "    # Base URL\n",
    "    base_url = \"https://www.alphavantage.co/query?function=TIME_SERIES_DAILY&symbol={symbol}&outputsize={output_size}&apikey={apikey}\"\n",
    "\n",
    "    # API key for authentication\n",
    "    api_key = alpha_key\n",
    "\n",
    "    # Construct the full URL\n",
    "    url = base_url.format(symbol=symbol, output_size=output_size, apikey=api_key)\n",
    "\n",
    "    # Send HTTP GET request to fetch data\n",
    "    response = requests.get(url)\n",
    "\n",
    "    # Parse the response as JSON\n",
    "    data = response.json()\n",
    "\n",
    "    # Extract the daily time series data, with a default to an empty dictionary\n",
    "    time_series = data.get(\"Time Series (Daily)\", {})\n",
    "\n",
    "    # Create a DataFrame from the time series data\n",
    "    ts_df = pd.DataFrame.from_dict(time_series, orient='index')\n",
    "\n",
    "    # Convert the index to datetime for easier manipulation and analysis\n",
    "    ts_df.index = pd.to_datetime(ts_df.index)\n",
    "\n",
    "    # Return the resulting DataFrame\n",
    "    return ts_df"
   ]
  },
  {
   "cell_type": "markdown",
   "metadata": {},
   "source": [
    "#### Market News & Sentiment"
   ]
  },
  {
   "cell_type": "markdown",
   "metadata": {},
   "source": [
    "[Documentation](https://www.alphavantage.co/documentation/#news-sentiment)\n",
    "\n",
    "This API returns live and historical market news & sentiment data from a large & growing selection of premier news outlets around the world, covering stocks, cryptocurrencies, forex, and a wide range of topics such as fiscal policy, mergers & acquisitions, IPOs, etc.\n",
    "\n",
    "\n",
    "The stock/crypto/forex symbols of your choice. For example: tickers=IBM will filter for articles that mention the IBM ticker; tickers=COIN,CRYPTO:BTC,FOREX:USD will filter for articles that simultaneously mention Coinbase (COIN), Bitcoin (CRYPTO:BTC), and US Dollar (FOREX:USD) in their content."
   ]
  },
  {
   "cell_type": "code",
   "execution_count": 5,
   "metadata": {},
   "outputs": [],
   "source": [
    "# Function to fetch news sentiment data\n",
    "def av_news(tickers):\n",
    "    # Base URL \n",
    "    base_url = \"https://www.alphavantage.co/query?function=NEWS_SENTIMENT&tickers={tickers}&apikey={apikey}\"\n",
    "\n",
    "    # API key for authentication\n",
    "    api_key = alpha_key\n",
    "\n",
    "    # Construct the full URL\n",
    "    url = base_url.format(tickers=tickers, apikey=api_key)\n",
    "\n",
    "    # Send HTTP GET request to fetch data\n",
    "    response = requests.get(url)\n",
    "\n",
    "    # Parse the response as JSON\n",
    "    data = response.json()\n",
    "\n",
    "    # Normalize the 'feed' data into a DataFrame\n",
    "    feed_df = pd.json_normalize(data['feed'])\n",
    "\n",
    "    # Return the DataFrame with the news sentiment data\n",
    "    return feed_df"
   ]
  },
  {
   "cell_type": "markdown",
   "metadata": {},
   "source": [
    "# Fetching data"
   ]
  },
  {
   "cell_type": "markdown",
   "metadata": {},
   "source": [
    "Because of the 25-query daily limit with Alpha Vantage's free API key, I'll save the results to a CSV file and comment out the code that fetches the data."
   ]
  },
  {
   "cell_type": "markdown",
   "metadata": {},
   "source": [
    "## Standard and Poor's 500 (S&P 500)\n",
    "**Ticker = \"SPY\"**"
   ]
  },
  {
   "cell_type": "code",
   "execution_count": 23,
   "metadata": {},
   "outputs": [
    {
     "data": {
      "text/html": [
       "<div>\n",
       "<style scoped>\n",
       "    .dataframe tbody tr th:only-of-type {\n",
       "        vertical-align: middle;\n",
       "    }\n",
       "\n",
       "    .dataframe tbody tr th {\n",
       "        vertical-align: top;\n",
       "    }\n",
       "\n",
       "    .dataframe thead th {\n",
       "        text-align: right;\n",
       "    }\n",
       "</style>\n",
       "<table border=\"1\" class=\"dataframe\">\n",
       "  <thead>\n",
       "    <tr style=\"text-align: right;\">\n",
       "      <th></th>\n",
       "      <th>1. open</th>\n",
       "      <th>2. high</th>\n",
       "      <th>3. low</th>\n",
       "      <th>4. close</th>\n",
       "      <th>5. volume</th>\n",
       "    </tr>\n",
       "  </thead>\n",
       "  <tbody>\n",
       "    <tr>\n",
       "      <th>2024-04-25</th>\n",
       "      <td>499.1800</td>\n",
       "      <td>504.2700</td>\n",
       "      <td>497.4900</td>\n",
       "      <td>503.4900</td>\n",
       "      <td>69122368</td>\n",
       "    </tr>\n",
       "    <tr>\n",
       "      <th>2024-04-24</th>\n",
       "      <td>506.5600</td>\n",
       "      <td>507.3700</td>\n",
       "      <td>503.1300</td>\n",
       "      <td>505.4100</td>\n",
       "      <td>55928076</td>\n",
       "    </tr>\n",
       "    <tr>\n",
       "      <th>2024-04-23</th>\n",
       "      <td>501.7800</td>\n",
       "      <td>506.0900</td>\n",
       "      <td>499.5328</td>\n",
       "      <td>505.6500</td>\n",
       "      <td>64633620</td>\n",
       "    </tr>\n",
       "    <tr>\n",
       "      <th>2024-04-22</th>\n",
       "      <td>497.8300</td>\n",
       "      <td>502.3800</td>\n",
       "      <td>495.4300</td>\n",
       "      <td>499.7200</td>\n",
       "      <td>67961048</td>\n",
       "    </tr>\n",
       "    <tr>\n",
       "      <th>2024-04-19</th>\n",
       "      <td>499.4400</td>\n",
       "      <td>500.4550</td>\n",
       "      <td>493.8600</td>\n",
       "      <td>495.1600</td>\n",
       "      <td>102212587</td>\n",
       "    </tr>\n",
       "  </tbody>\n",
       "</table>\n",
       "</div>"
      ],
      "text/plain": [
       "             1. open   2. high    3. low  4. close  5. volume\n",
       "2024-04-25  499.1800  504.2700  497.4900  503.4900   69122368\n",
       "2024-04-24  506.5600  507.3700  503.1300  505.4100   55928076\n",
       "2024-04-23  501.7800  506.0900  499.5328  505.6500   64633620\n",
       "2024-04-22  497.8300  502.3800  495.4300  499.7200   67961048\n",
       "2024-04-19  499.4400  500.4550  493.8600  495.1600  102212587"
      ]
     },
     "execution_count": 23,
     "metadata": {},
     "output_type": "execute_result"
    }
   ],
   "source": [
    "# # Fetch S&P 500 Data from Alpha Vantage API\n",
    "# df_spy = av_daily('spy', 'full')\n",
    "\n",
    "# df_spy.head()"
   ]
  },
  {
   "cell_type": "code",
   "execution_count": 27,
   "metadata": {},
   "outputs": [],
   "source": [
    "# Save fetched data to csv\n",
    "#df_spy.to_csv(\"data/df_spy.csv\")"
   ]
  },
  {
   "cell_type": "code",
   "execution_count": 33,
   "metadata": {},
   "outputs": [
    {
     "name": "stdout",
     "output_type": "stream",
     "text": [
      "<class 'pandas.core.frame.DataFrame'>\n",
      "Index: 6160 entries, 2024-04-25 to 1999-11-01\n",
      "Data columns (total 5 columns):\n",
      " #   Column  Non-Null Count  Dtype  \n",
      "---  ------  --------------  -----  \n",
      " 0   open    6160 non-null   float64\n",
      " 1   high    6160 non-null   float64\n",
      " 2   low     6160 non-null   float64\n",
      " 3   close   6160 non-null   float64\n",
      " 4   volume  6160 non-null   int64  \n",
      "dtypes: float64(4), int64(1)\n",
      "memory usage: 288.8+ KB\n"
     ]
    }
   ],
   "source": [
    "# Load saved data\n",
    "df_spy = pd.read_csv(\"data/df_spy.csv\", index_col=0)\n",
    "\n",
    "# Rename columns \n",
    "df_spy.columns = [col[3:] for col in df_spy.columns]\n",
    "\n",
    "df_spy.info()"
   ]
  },
  {
   "cell_type": "markdown",
   "metadata": {},
   "source": [
    "# Building unsupervised learning trading strategy"
   ]
  },
  {
   "cell_type": "markdown",
   "metadata": {},
   "source": [
    "Calculate the features and technical indicators of each stock\n",
    "* Garman-Klass Volatility\n",
    "* RSI\n",
    "* Bollinger Bands\n",
    "* ATR\n",
    "* MACD\n",
    "* Dollar Volume"
   ]
  },
  {
   "cell_type": "markdown",
   "metadata": {},
   "source": [
    "## Garman-Klass Volatility"
   ]
  },
  {
   "cell_type": "markdown",
   "metadata": {},
   "source": [
    "The Garman-Klass volatility formula estimates the annualized volatility of a financial asset using high, low, open, and close prices. It is considered an improvement over simple close-to-close volatility estimation because it incorporates additional information from the intraday price range.\n",
    "\n",
    "The formula to calculate the Garman-Klass volatility is:\n",
    "\n",
    "$$\n",
    "\\sigma_{GK} = \\sqrt{ \\frac{1}{n} \\sum_{i=1}^n \\left( \\frac{1}{2} \\ln\\left( \\frac{H_i}{L_i} \\right)^2 - (2 \\ln(2) - 1) \\ln\\left( \\frac{C_i}{O_i} \\right)^2 \\right)}\n",
    "$$\n",
    "\n",
    "\n",
    "where:\n",
    "\n",
    "- $n$ is the number of periods (e.g., trading days),\n",
    "- $O_i$ represents the opening price for period $i$,\n",
    "- $C_i$ represents the closing price for period $i$,\n",
    "- $H_i$ represents the highest price during period $i$,\n",
    "- $L_i$ represents the lowest price during period $i$.\n",
    "\n",
    "\n",
    "### Explanation\n",
    "\n",
    "- **Logarithmic Returns**: The formula uses logarithmic returns to estimate the volatility derived from the high-low price range and the open-close price difference.\n",
    "\n",
    "- **High-Low Component**: The term $ \\frac{1}{2} \\ln\\left( \\frac{H_i}{L_i} \\right)^2 $ captures the volatility due to the price range within a single period.\n",
    "\n",
    "- **Close-Open Component**: The term $ (2 \\ln(2) - 1) \\ln\\left( \\frac{C_i}{O_i} \\right)^2 $ accounts for the volatility derived from the difference between the closing and opening prices."
   ]
  },
  {
   "cell_type": "code",
   "execution_count": 40,
   "metadata": {},
   "outputs": [],
   "source": [
    "# Define the Garman-Klass function\n",
    "def garman_klass(data):\n",
    "    # Calculate the high-low component\n",
    "    high_low = 0.5 * np.square(np.log(data['high'] / data['low']))\n",
    "    # Calculate the open-close component\n",
    "    open_close = (2 * np.log(2) - 1) * np.square(np.log(data['close'] / data['open']))\n",
    "    # Calculate Garman-Klass volatility\n",
    "    gk_volatility = np.sqrt(high_low - open_close)\n",
    "    \n",
    "    # Add the calculated volatility as a new column to the DataFrame\n",
    "    data['gk_volatility'] = gk_volatility\n",
    "    \n",
    "    # Return the modified DataFrame with the new column\n",
    "    return data"
   ]
  },
  {
   "cell_type": "code",
   "execution_count": 38,
   "metadata": {},
   "outputs": [],
   "source": [
    "df_spy = garman_klass(df_spy)"
   ]
  },
  {
   "cell_type": "code",
   "execution_count": 39,
   "metadata": {},
   "outputs": [
    {
     "name": "stdout",
     "output_type": "stream",
     "text": [
      "<class 'pandas.core.frame.DataFrame'>\n",
      "Index: 6160 entries, 2024-04-25 to 1999-11-01\n",
      "Data columns (total 6 columns):\n",
      " #   Column         Non-Null Count  Dtype  \n",
      "---  ------         --------------  -----  \n",
      " 0   open           6160 non-null   float64\n",
      " 1   high           6160 non-null   float64\n",
      " 2   low            6160 non-null   float64\n",
      " 3   close          6160 non-null   float64\n",
      " 4   volume         6160 non-null   int64  \n",
      " 5   gk_volatility  6160 non-null   float64\n",
      "dtypes: float64(5), int64(1)\n",
      "memory usage: 336.9+ KB\n"
     ]
    }
   ],
   "source": [
    "df_spy.info()"
   ]
  },
  {
   "cell_type": "code",
   "execution_count": null,
   "metadata": {},
   "outputs": [],
   "source": []
  }
 ],
 "metadata": {
  "kernelspec": {
   "display_name": "base",
   "language": "python",
   "name": "python3"
  },
  "language_info": {
   "codemirror_mode": {
    "name": "ipython",
    "version": 3
   },
   "file_extension": ".py",
   "mimetype": "text/x-python",
   "name": "python",
   "nbconvert_exporter": "python",
   "pygments_lexer": "ipython3",
   "version": "3.8.12"
  }
 },
 "nbformat": 4,
 "nbformat_minor": 2
}
