{
 "cells": [
  {
   "cell_type": "markdown",
   "metadata": {},
   "source": [
    "# Import packages and API Setup"
   ]
  },
  {
   "cell_type": "markdown",
   "metadata": {},
   "source": [
    "## Import packages"
   ]
  },
  {
   "cell_type": "code",
   "execution_count": 2,
   "metadata": {},
   "outputs": [],
   "source": [
    "# Data manipulation\n",
    "import pandas as pd\n",
    "import numpy as np\n",
    "pd.set_option('display.max_columns', None) # Remove column display limit\n",
    "\n",
    "# Visualization\n",
    "import matplotlib.pyplot as plt\n",
    "import seaborn as sns\n",
    "\n",
    "# Import HTTP requests library\n",
    "import requests\n"
   ]
  },
  {
   "cell_type": "markdown",
   "metadata": {},
   "source": [
    "## API setup and configuration "
   ]
  },
  {
   "cell_type": "markdown",
   "metadata": {},
   "source": [
    "[Alpha Vantage API Documentation](https://www.alphavantage.co/documentation/#)"
   ]
  },
  {
   "cell_type": "code",
   "execution_count": 3,
   "metadata": {},
   "outputs": [],
   "source": [
    "# Import dotenv_values and load the API key from .env file\n",
    "from dotenv import dotenv_values \n",
    "secrets = dotenv_values(\"secrets/.env\")\n",
    "alpha_key = secrets[\"alphavantage_key\"]"
   ]
  },
  {
   "cell_type": "markdown",
   "metadata": {},
   "source": [
    "### Search Endpoint"
   ]
  },
  {
   "cell_type": "markdown",
   "metadata": {},
   "source": [
    "The Search Endpoint returns the best-matching symbols and market information based on keywords of your choice. The search results also contain match scores that provide you with the full flexibility to develop your own search and filtering logic.  \n",
    "[Documentation](https://www.alphavantage.co/documentation/#symbolsearch)"
   ]
  },
  {
   "cell_type": "code",
   "execution_count": 9,
   "metadata": {},
   "outputs": [],
   "source": [
    "# symbol search\n",
    "def search(keyword):\n",
    "    # Define base URL with placeholders for symbol and API key\n",
    "    base_url = \"https://www.alphavantage.co/query?function=SYMBOL_SEARCH&keywords={keyword}&apikey={apikey}\"\n",
    "\n",
    "    # Set API key Value\n",
    "    api_key = alpha_key\n",
    "\n",
    "    # Replace placeholders with actual values\n",
    "    url = base_url.format(keyword=keyword, apikey=api_key)\n",
    "\n",
    "    request = requests.get(url)\n",
    "    results = request.json()\n",
    "    df_results = pd.DataFrame(results['bestMatches'])\n",
    "    return df_results"
   ]
  },
  {
   "cell_type": "code",
   "execution_count": 10,
   "metadata": {},
   "outputs": [
    {
     "data": {
      "text/html": [
       "<div>\n",
       "<style scoped>\n",
       "    .dataframe tbody tr th:only-of-type {\n",
       "        vertical-align: middle;\n",
       "    }\n",
       "\n",
       "    .dataframe tbody tr th {\n",
       "        vertical-align: top;\n",
       "    }\n",
       "\n",
       "    .dataframe thead th {\n",
       "        text-align: right;\n",
       "    }\n",
       "</style>\n",
       "<table border=\"1\" class=\"dataframe\">\n",
       "  <thead>\n",
       "    <tr style=\"text-align: right;\">\n",
       "      <th></th>\n",
       "      <th>1. symbol</th>\n",
       "      <th>2. name</th>\n",
       "      <th>3. type</th>\n",
       "      <th>4. region</th>\n",
       "      <th>5. marketOpen</th>\n",
       "      <th>6. marketClose</th>\n",
       "      <th>7. timezone</th>\n",
       "      <th>8. currency</th>\n",
       "      <th>9. matchScore</th>\n",
       "    </tr>\n",
       "  </thead>\n",
       "  <tbody>\n",
       "    <tr>\n",
       "      <th>0</th>\n",
       "      <td>SPY</td>\n",
       "      <td>SPDR S&amp;P 500 ETF Trust</td>\n",
       "      <td>ETF</td>\n",
       "      <td>United States</td>\n",
       "      <td>09:30</td>\n",
       "      <td>16:00</td>\n",
       "      <td>UTC-04</td>\n",
       "      <td>USD</td>\n",
       "      <td>1.0000</td>\n",
       "    </tr>\n",
       "    <tr>\n",
       "      <th>1</th>\n",
       "      <td>SPY1.FRK</td>\n",
       "      <td>SSgA SPDR ETFs Europe I Public Limited Company...</td>\n",
       "      <td>ETF</td>\n",
       "      <td>Frankfurt</td>\n",
       "      <td>08:00</td>\n",
       "      <td>20:00</td>\n",
       "      <td>UTC+02</td>\n",
       "      <td>EUR</td>\n",
       "      <td>0.6667</td>\n",
       "    </tr>\n",
       "    <tr>\n",
       "      <th>2</th>\n",
       "      <td>SPY2.FRK</td>\n",
       "      <td>SSgA SPDR ETFs Europe I Public Limited Company...</td>\n",
       "      <td>ETF</td>\n",
       "      <td>Frankfurt</td>\n",
       "      <td>08:00</td>\n",
       "      <td>20:00</td>\n",
       "      <td>UTC+02</td>\n",
       "      <td>EUR</td>\n",
       "      <td>0.6667</td>\n",
       "    </tr>\n",
       "    <tr>\n",
       "      <th>3</th>\n",
       "      <td>SPY4.FRK</td>\n",
       "      <td>SSgA SPDR S&amp;P 400 US Mid Cap</td>\n",
       "      <td>ETF</td>\n",
       "      <td>Frankfurt</td>\n",
       "      <td>08:00</td>\n",
       "      <td>20:00</td>\n",
       "      <td>UTC+02</td>\n",
       "      <td>EUR</td>\n",
       "      <td>0.6667</td>\n",
       "    </tr>\n",
       "    <tr>\n",
       "      <th>4</th>\n",
       "      <td>SPY4.LON</td>\n",
       "      <td>SSgA SPDR ETFs Europe I Public Limited Company...</td>\n",
       "      <td>ETF</td>\n",
       "      <td>United Kingdom</td>\n",
       "      <td>08:00</td>\n",
       "      <td>16:30</td>\n",
       "      <td>UTC+01</td>\n",
       "      <td>USD</td>\n",
       "      <td>0.6667</td>\n",
       "    </tr>\n",
       "    <tr>\n",
       "      <th>5</th>\n",
       "      <td>SPY1.DEX</td>\n",
       "      <td>SPDR® S&amp;P 500 Low Volatility UCITS ETF</td>\n",
       "      <td>ETF</td>\n",
       "      <td>XETRA</td>\n",
       "      <td>08:00</td>\n",
       "      <td>20:00</td>\n",
       "      <td>UTC+02</td>\n",
       "      <td>EUR</td>\n",
       "      <td>0.6000</td>\n",
       "    </tr>\n",
       "    <tr>\n",
       "      <th>6</th>\n",
       "      <td>SPY2.DEX</td>\n",
       "      <td>SPDR® Dow Jones Global Real Estate UCITS ETF U...</td>\n",
       "      <td>ETF</td>\n",
       "      <td>XETRA</td>\n",
       "      <td>08:00</td>\n",
       "      <td>20:00</td>\n",
       "      <td>UTC+02</td>\n",
       "      <td>EUR</td>\n",
       "      <td>0.6000</td>\n",
       "    </tr>\n",
       "    <tr>\n",
       "      <th>7</th>\n",
       "      <td>SPY4.DEX</td>\n",
       "      <td>SSgA SPDR S&amp;P 400 US Mid Cap</td>\n",
       "      <td>ETF</td>\n",
       "      <td>XETRA</td>\n",
       "      <td>08:00</td>\n",
       "      <td>20:00</td>\n",
       "      <td>UTC+02</td>\n",
       "      <td>EUR</td>\n",
       "      <td>0.6000</td>\n",
       "    </tr>\n",
       "    <tr>\n",
       "      <th>8</th>\n",
       "      <td>SPY4.PAR</td>\n",
       "      <td>SSgA SPDR S&amp;P 400 US Mid Cap</td>\n",
       "      <td>ETF</td>\n",
       "      <td>Paris</td>\n",
       "      <td>09:00</td>\n",
       "      <td>17:30</td>\n",
       "      <td>UTC+02</td>\n",
       "      <td>EUR</td>\n",
       "      <td>0.6000</td>\n",
       "    </tr>\n",
       "    <tr>\n",
       "      <th>9</th>\n",
       "      <td>SPY5.DEX</td>\n",
       "      <td>SPDR® S&amp;P 500 UCITS ETF</td>\n",
       "      <td>ETF</td>\n",
       "      <td>XETRA</td>\n",
       "      <td>08:00</td>\n",
       "      <td>20:00</td>\n",
       "      <td>UTC+02</td>\n",
       "      <td>EUR</td>\n",
       "      <td>0.6000</td>\n",
       "    </tr>\n",
       "  </tbody>\n",
       "</table>\n",
       "</div>"
      ],
      "text/plain": [
       "  1. symbol                                            2. name 3. type  \\\n",
       "0       SPY                             SPDR S&P 500 ETF Trust     ETF   \n",
       "1  SPY1.FRK  SSgA SPDR ETFs Europe I Public Limited Company...     ETF   \n",
       "2  SPY2.FRK  SSgA SPDR ETFs Europe I Public Limited Company...     ETF   \n",
       "3  SPY4.FRK                       SSgA SPDR S&P 400 US Mid Cap     ETF   \n",
       "4  SPY4.LON  SSgA SPDR ETFs Europe I Public Limited Company...     ETF   \n",
       "5  SPY1.DEX             SPDR® S&P 500 Low Volatility UCITS ETF     ETF   \n",
       "6  SPY2.DEX  SPDR® Dow Jones Global Real Estate UCITS ETF U...     ETF   \n",
       "7  SPY4.DEX                       SSgA SPDR S&P 400 US Mid Cap     ETF   \n",
       "8  SPY4.PAR                       SSgA SPDR S&P 400 US Mid Cap     ETF   \n",
       "9  SPY5.DEX                            SPDR® S&P 500 UCITS ETF     ETF   \n",
       "\n",
       "        4. region 5. marketOpen 6. marketClose 7. timezone 8. currency  \\\n",
       "0   United States         09:30          16:00      UTC-04         USD   \n",
       "1       Frankfurt         08:00          20:00      UTC+02         EUR   \n",
       "2       Frankfurt         08:00          20:00      UTC+02         EUR   \n",
       "3       Frankfurt         08:00          20:00      UTC+02         EUR   \n",
       "4  United Kingdom         08:00          16:30      UTC+01         USD   \n",
       "5           XETRA         08:00          20:00      UTC+02         EUR   \n",
       "6           XETRA         08:00          20:00      UTC+02         EUR   \n",
       "7           XETRA         08:00          20:00      UTC+02         EUR   \n",
       "8           Paris         09:00          17:30      UTC+02         EUR   \n",
       "9           XETRA         08:00          20:00      UTC+02         EUR   \n",
       "\n",
       "  9. matchScore  \n",
       "0        1.0000  \n",
       "1        0.6667  \n",
       "2        0.6667  \n",
       "3        0.6667  \n",
       "4        0.6667  \n",
       "5        0.6000  \n",
       "6        0.6000  \n",
       "7        0.6000  \n",
       "8        0.6000  \n",
       "9        0.6000  "
      ]
     },
     "execution_count": 10,
     "metadata": {},
     "output_type": "execute_result"
    }
   ],
   "source": [
    "test_search = search(\"spy\")\n",
    "test_search"
   ]
  },
  {
   "cell_type": "markdown",
   "metadata": {},
   "source": [
    "### Time Series Daily"
   ]
  },
  {
   "cell_type": "markdown",
   "metadata": {},
   "source": [
    "Alpha Vantage [TIME_SERIES_DAILY API](https://www.alphavantage.co/documentation/#daily)  \n",
    "\n",
    "This API returns raw (as-traded) daily time series (date, daily open, daily high, daily low, daily close, daily volume) of the global equity specified, covering 20+ years of historical data. The OHLCV data is sometimes called \"candles\" in finance literature. "
   ]
  },
  {
   "cell_type": "code",
   "execution_count": 11,
   "metadata": {},
   "outputs": [],
   "source": [
    "def api_query_daily(symbol, size):\n",
    "    # Define base URL with placeholders for symbol and API key\n",
    "    base_url = \"https://www.alphavantage.co/query?function=TIME_SERIES_DAILY&symbol={symbol}&outputsize={size}&apikey={apikey}\"\n",
    "\n",
    "    # Set API key Value\n",
    "    api_key = alpha_key\n",
    "\n",
    "    # Replace placeholders with actual values\n",
    "    url = base_url.format(symbol=symbol, size = size, apikey=api_key)\n",
    "    \n",
    "    # Send GET request\n",
    "    request = requests.get(url)\n",
    "    # Parse the response as JSON\n",
    "    data = request.json()\n",
    "\n",
    "    return data"
   ]
  },
  {
   "cell_type": "markdown",
   "metadata": {},
   "source": [
    "# Load the data"
   ]
  },
  {
   "cell_type": "code",
   "execution_count": 12,
   "metadata": {},
   "outputs": [
    {
     "data": {
      "text/html": [
       "<div>\n",
       "<style scoped>\n",
       "    .dataframe tbody tr th:only-of-type {\n",
       "        vertical-align: middle;\n",
       "    }\n",
       "\n",
       "    .dataframe tbody tr th {\n",
       "        vertical-align: top;\n",
       "    }\n",
       "\n",
       "    .dataframe thead th {\n",
       "        text-align: right;\n",
       "    }\n",
       "</style>\n",
       "<table border=\"1\" class=\"dataframe\">\n",
       "  <thead>\n",
       "    <tr style=\"text-align: right;\">\n",
       "      <th></th>\n",
       "      <th>1. open</th>\n",
       "      <th>2. high</th>\n",
       "      <th>3. low</th>\n",
       "      <th>4. close</th>\n",
       "      <th>5. volume</th>\n",
       "    </tr>\n",
       "  </thead>\n",
       "  <tbody>\n",
       "    <tr>\n",
       "      <th>2024-04-24</th>\n",
       "      <td>506.5900</td>\n",
       "      <td>507.3600</td>\n",
       "      <td>503.1350</td>\n",
       "      <td>505.4600</td>\n",
       "      <td>55688584</td>\n",
       "    </tr>\n",
       "    <tr>\n",
       "      <th>2024-04-23</th>\n",
       "      <td>501.7800</td>\n",
       "      <td>506.0900</td>\n",
       "      <td>499.5328</td>\n",
       "      <td>505.6500</td>\n",
       "      <td>64633620</td>\n",
       "    </tr>\n",
       "    <tr>\n",
       "      <th>2024-04-22</th>\n",
       "      <td>497.8300</td>\n",
       "      <td>502.3800</td>\n",
       "      <td>495.4300</td>\n",
       "      <td>499.7200</td>\n",
       "      <td>67961048</td>\n",
       "    </tr>\n",
       "    <tr>\n",
       "      <th>2024-04-19</th>\n",
       "      <td>499.4400</td>\n",
       "      <td>500.4550</td>\n",
       "      <td>493.8600</td>\n",
       "      <td>495.1600</td>\n",
       "      <td>102212587</td>\n",
       "    </tr>\n",
       "    <tr>\n",
       "      <th>2024-04-18</th>\n",
       "      <td>501.9800</td>\n",
       "      <td>504.1300</td>\n",
       "      <td>498.5600</td>\n",
       "      <td>499.5200</td>\n",
       "      <td>74548085</td>\n",
       "    </tr>\n",
       "  </tbody>\n",
       "</table>\n",
       "</div>"
      ],
      "text/plain": [
       "             1. open   2. high    3. low  4. close  5. volume\n",
       "2024-04-24  506.5900  507.3600  503.1350  505.4600   55688584\n",
       "2024-04-23  501.7800  506.0900  499.5328  505.6500   64633620\n",
       "2024-04-22  497.8300  502.3800  495.4300  499.7200   67961048\n",
       "2024-04-19  499.4400  500.4550  493.8600  495.1600  102212587\n",
       "2024-04-18  501.9800  504.1300  498.5600  499.5200   74548085"
      ]
     },
     "execution_count": 12,
     "metadata": {},
     "output_type": "execute_result"
    }
   ],
   "source": [
    "# Query S&P 500 Data\n",
    "spy_data = api_query_daily(\"SPY\", 'full')\n",
    "\n",
    "# Convert results to a DataFrame\n",
    "time_series = spy_data.get(\"Time Series (Daily)\", {})\n",
    "\n",
    "df_spy = pd.DataFrame.from_dict(time_series, orient='index')\n",
    "df_spy.index = pd.to_datetime(df_spy.index)\n",
    "\n",
    "df_spy.head()\n"
   ]
  },
  {
   "cell_type": "code",
   "execution_count": 13,
   "metadata": {},
   "outputs": [
    {
     "name": "stdout",
     "output_type": "stream",
     "text": [
      "<class 'pandas.core.frame.DataFrame'>\n",
      "DatetimeIndex: 6159 entries, 2024-04-24 to 1999-11-01\n",
      "Data columns (total 5 columns):\n",
      " #   Column     Non-Null Count  Dtype \n",
      "---  ------     --------------  ----- \n",
      " 0   1. open    6159 non-null   object\n",
      " 1   2. high    6159 non-null   object\n",
      " 2   3. low     6159 non-null   object\n",
      " 3   4. close   6159 non-null   object\n",
      " 4   5. volume  6159 non-null   object\n",
      "dtypes: object(5)\n",
      "memory usage: 288.7+ KB\n"
     ]
    }
   ],
   "source": [
    "df_spy.info()"
   ]
  },
  {
   "cell_type": "code",
   "execution_count": null,
   "metadata": {},
   "outputs": [],
   "source": []
  }
 ],
 "metadata": {
  "kernelspec": {
   "display_name": "base",
   "language": "python",
   "name": "python3"
  },
  "language_info": {
   "codemirror_mode": {
    "name": "ipython",
    "version": 3
   },
   "file_extension": ".py",
   "mimetype": "text/x-python",
   "name": "python",
   "nbconvert_exporter": "python",
   "pygments_lexer": "ipython3",
   "version": "3.8.12"
  }
 },
 "nbformat": 4,
 "nbformat_minor": 2
}
