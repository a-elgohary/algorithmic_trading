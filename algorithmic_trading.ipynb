{
 "cells": [
  {
   "cell_type": "markdown",
   "metadata": {},
   "source": [
    "# Import packages and API Setup"
   ]
  },
  {
   "cell_type": "markdown",
   "metadata": {},
   "source": [
    "## Import packages"
   ]
  },
  {
   "cell_type": "code",
   "execution_count": 1,
   "metadata": {},
   "outputs": [],
   "source": [
    "# Data manipulation\n",
    "import datetime as dt\n",
    "import numpy as np\n",
    "import pandas as pd\n",
    "pd.set_option('display.max_columns', None) # Remove column display limit\n",
    "import pandas_datareader.data as web\n",
    "\n",
    "# Stats\n",
    "import statsmodels.api as sm\n",
    "from statsmodels.regression.rolling import RollingOLS\n",
    "\n",
    "# Visualization\n",
    "import matplotlib.pyplot as plt\n",
    "import seaborn as sns\n",
    "\n",
    "# Data Fetch\n",
    "import requests\n",
    "import yfinance as yf\n"
   ]
  },
  {
   "cell_type": "markdown",
   "metadata": {},
   "source": [
    "## API setup and configuration "
   ]
  },
  {
   "cell_type": "markdown",
   "metadata": {},
   "source": [
    "### Alpha Vantage"
   ]
  },
  {
   "cell_type": "markdown",
   "metadata": {},
   "source": [
    "[Alpha Vantage API Documentation](https://www.alphavantage.co/documentation/#)"
   ]
  },
  {
   "cell_type": "code",
   "execution_count": 2,
   "metadata": {},
   "outputs": [],
   "source": [
    "# Import dotenv_values and load the API key from .env file\n",
    "from dotenv import dotenv_values \n",
    "secrets = dotenv_values(\"secrets/.env\")\n",
    "alpha_key = secrets[\"alphavantage_key\"]"
   ]
  },
  {
   "cell_type": "markdown",
   "metadata": {},
   "source": [
    "#### Search Endpoint"
   ]
  },
  {
   "cell_type": "markdown",
   "metadata": {},
   "source": [
    "[Documentation](https://www.alphavantage.co/documentation/#symbolsearch)  \n",
    "\n",
    "The Search Endpoint returns the best-matching symbols and market information based on keywords of your choice. The search results also contain match scores that provide you with the full flexibility to develop your own search and filtering logic.  "
   ]
  },
  {
   "cell_type": "code",
   "execution_count": 3,
   "metadata": {},
   "outputs": [],
   "source": [
    "# Function to search for symbols based on a keyword\n",
    "def av_search(keyword):\n",
    "    # Base URL\n",
    "    base_url = \"https://www.alphavantage.co/query?function=SYMBOL_SEARCH&keywords={keyword}&apikey={apikey}\"\n",
    "\n",
    "    # API key for authentication\n",
    "    api_key = alpha_key\n",
    "\n",
    "    # Construct the full URL\n",
    "    url = base_url.format(keyword=keyword, apikey=api_key)\n",
    "\n",
    "    # Send HTTP GET request to fetch data\n",
    "    response = requests.get(url)\n",
    "    \n",
    "    # Parse the response as JSON\n",
    "    response_json = response.json()\n",
    "    \n",
    "    # Create a DataFrame from the 'bestMatches' section of the JSON response\n",
    "    df_results = pd.DataFrame(response_json.get('bestMatches', []))\n",
    "\n",
    "    return df_results"
   ]
  },
  {
   "cell_type": "markdown",
   "metadata": {},
   "source": [
    "#### Time Series Daily"
   ]
  },
  {
   "cell_type": "markdown",
   "metadata": {},
   "source": [
    "[Documentation](https://www.alphavantage.co/documentation/#daily)  \n",
    "\n",
    "This API returns raw (as-traded) daily time series (date, daily open, daily high, daily low, daily close, daily volume) of the global equity specified, covering 20+ years of historical data. The OHLCV data is sometimes called \"candles\" in finance literature. "
   ]
  },
  {
   "cell_type": "code",
   "execution_count": 4,
   "metadata": {},
   "outputs": [],
   "source": [
    "# Function to fetch daily stock data\n",
    "def av_daily(symbol, output_size):\n",
    "    # Base URL\n",
    "    base_url = \"https://www.alphavantage.co/query?function=TIME_SERIES_DAILY&symbol={symbol}&outputsize={output_size}&apikey={apikey}\"\n",
    "\n",
    "    # API key for authentication\n",
    "    api_key = alpha_key\n",
    "\n",
    "    # Construct the full URL\n",
    "    url = base_url.format(symbol=symbol, output_size=output_size, apikey=api_key)\n",
    "\n",
    "    # Send HTTP GET request to fetch data\n",
    "    response = requests.get(url)\n",
    "\n",
    "    # Parse the response as JSON\n",
    "    data = response.json()\n",
    "\n",
    "    # Extract the daily time series data, with a default to an empty dictionary\n",
    "    time_series = data.get(\"Time Series (Daily)\", {})\n",
    "\n",
    "    # Create a DataFrame from the time series data\n",
    "    ts_df = pd.DataFrame.from_dict(time_series, orient='index')\n",
    "\n",
    "    # Convert the index to datetime for easier manipulation and analysis\n",
    "    ts_df.index = pd.to_datetime(ts_df.index)\n",
    "\n",
    "    # Return the resulting DataFrame\n",
    "    return ts_df"
   ]
  },
  {
   "cell_type": "markdown",
   "metadata": {},
   "source": [
    "#### Market News & Sentiment"
   ]
  },
  {
   "cell_type": "markdown",
   "metadata": {},
   "source": [
    "[Documentation](https://www.alphavantage.co/documentation/#news-sentiment)\n",
    "\n",
    "This API returns live and historical market news & sentiment data from a large & growing selection of premier news outlets around the world, covering stocks, cryptocurrencies, forex, and a wide range of topics such as fiscal policy, mergers & acquisitions, IPOs, etc.\n",
    "\n",
    "\n",
    "The stock/crypto/forex symbols of your choice. For example: tickers=IBM will filter for articles that mention the IBM ticker; tickers=COIN,CRYPTO:BTC,FOREX:USD will filter for articles that simultaneously mention Coinbase (COIN), Bitcoin (CRYPTO:BTC), and US Dollar (FOREX:USD) in their content."
   ]
  },
  {
   "cell_type": "code",
   "execution_count": 5,
   "metadata": {},
   "outputs": [],
   "source": [
    "# Function to fetch news sentiment data\n",
    "def av_news(tickers):\n",
    "    # Base URL \n",
    "    base_url = \"https://www.alphavantage.co/query?function=NEWS_SENTIMENT&tickers={tickers}&apikey={apikey}\"\n",
    "\n",
    "    # API key for authentication\n",
    "    api_key = alpha_key\n",
    "\n",
    "    # Construct the full URL\n",
    "    url = base_url.format(tickers=tickers, apikey=api_key)\n",
    "\n",
    "    # Send HTTP GET request to fetch data\n",
    "    response = requests.get(url)\n",
    "\n",
    "    # Parse the response as JSON\n",
    "    data = response.json()\n",
    "\n",
    "    # Normalize the 'feed' data into a DataFrame\n",
    "    feed_df = pd.json_normalize(data['feed'])\n",
    "\n",
    "    # Return the DataFrame with the news sentiment data\n",
    "    return feed_df"
   ]
  },
  {
   "cell_type": "markdown",
   "metadata": {},
   "source": [
    "# Building unsupervised learning trading strategy"
   ]
  },
  {
   "cell_type": "markdown",
   "metadata": {},
   "source": [
    "#"
   ]
  },
  {
   "cell_type": "markdown",
   "metadata": {},
   "source": [
    "## ETL"
   ]
  },
  {
   "cell_type": "markdown",
   "metadata": {},
   "source": [
    "### Standard and Poor's 500 (S&P 500/SPY) list as of 04/25/2024"
   ]
  },
  {
   "cell_type": "code",
   "execution_count": 9,
   "metadata": {},
   "outputs": [
    {
     "data": {
      "text/html": [
       "<div>\n",
       "<style scoped>\n",
       "    .dataframe tbody tr th:only-of-type {\n",
       "        vertical-align: middle;\n",
       "    }\n",
       "\n",
       "    .dataframe tbody tr th {\n",
       "        vertical-align: top;\n",
       "    }\n",
       "\n",
       "    .dataframe thead th {\n",
       "        text-align: right;\n",
       "    }\n",
       "</style>\n",
       "<table border=\"1\" class=\"dataframe\">\n",
       "  <thead>\n",
       "    <tr style=\"text-align: right;\">\n",
       "      <th></th>\n",
       "      <th>#</th>\n",
       "      <th>Company</th>\n",
       "      <th>Symbol</th>\n",
       "      <th>Portfolio%</th>\n",
       "    </tr>\n",
       "  </thead>\n",
       "  <tbody>\n",
       "    <tr>\n",
       "      <th>0</th>\n",
       "      <td>1</td>\n",
       "      <td>Microsoft Corp</td>\n",
       "      <td>MSFT</td>\n",
       "      <td>7.11%</td>\n",
       "    </tr>\n",
       "    <tr>\n",
       "      <th>1</th>\n",
       "      <td>2</td>\n",
       "      <td>Apple Inc.</td>\n",
       "      <td>AAPL</td>\n",
       "      <td>5.69%</td>\n",
       "    </tr>\n",
       "    <tr>\n",
       "      <th>2</th>\n",
       "      <td>3</td>\n",
       "      <td>Nvidia Corp</td>\n",
       "      <td>NVDA</td>\n",
       "      <td>4.78%</td>\n",
       "    </tr>\n",
       "    <tr>\n",
       "      <th>3</th>\n",
       "      <td>4</td>\n",
       "      <td>Amazon.com Inc</td>\n",
       "      <td>AMZN</td>\n",
       "      <td>3.85%</td>\n",
       "    </tr>\n",
       "    <tr>\n",
       "      <th>4</th>\n",
       "      <td>5</td>\n",
       "      <td>Meta Platforms, Inc. Class A</td>\n",
       "      <td>META</td>\n",
       "      <td>2.56%</td>\n",
       "    </tr>\n",
       "  </tbody>\n",
       "</table>\n",
       "</div>"
      ],
      "text/plain": [
       "   #                       Company Symbol Portfolio%\n",
       "0  1                Microsoft Corp   MSFT      7.11%\n",
       "1  2                    Apple Inc.   AAPL      5.69%\n",
       "2  3                   Nvidia Corp   NVDA      4.78%\n",
       "3  4                Amazon.com Inc   AMZN      3.85%\n",
       "4  5  Meta Platforms, Inc. Class A   META      2.56%"
      ]
     },
     "execution_count": 9,
     "metadata": {},
     "output_type": "execute_result"
    }
   ],
   "source": [
    "# Load dataset from CSV\n",
    "spy_list = pd.read_csv(\"data/SPY_holdings_042524.csv\")\n",
    "\n",
    "spy_list.head()"
   ]
  },
  {
   "cell_type": "code",
   "execution_count": 37,
   "metadata": {},
   "outputs": [],
   "source": [
    "# # Replace dots with dashes for yfinance query\n",
    "# spy_list['Symbol'] = spy_list['Symbol'].str.replace('.', '-')\n",
    "\n",
    "# # Extract symbols only\n",
    "# symbols_list = spy_list['Symbol'].unique().tolist()\n",
    "\n",
    "# # Set start and end dates\n",
    "# end_date = '2024-04-24'\n",
    "# start_date = pd.to_datetime(end_date) - pd.DateOffset(365*10)\n",
    "\n",
    "# # Download yfinance data\n",
    "# df = yf.download(tickers=symbols_list,\n",
    "#                  start=start_date,\n",
    "#                  end=end_date\n",
    "#                  ).stack()\n",
    "\n",
    "# # Rename the index levels\n",
    "# df.index.names = ['date', 'ticker']\n",
    "\n",
    "# # Change columns names to lowercase\n",
    "# df.columns = df.columns.str.lower()"
   ]
  },
  {
   "cell_type": "code",
   "execution_count": 32,
   "metadata": {},
   "outputs": [],
   "source": [
    "# # Save to csv\n",
    "# df.to_csv(\"data/yfdata.csv\")"
   ]
  },
  {
   "cell_type": "code",
   "execution_count": 40,
   "metadata": {},
   "outputs": [
    {
     "data": {
      "text/html": [
       "<div>\n",
       "<style scoped>\n",
       "    .dataframe tbody tr th:only-of-type {\n",
       "        vertical-align: middle;\n",
       "    }\n",
       "\n",
       "    .dataframe tbody tr th {\n",
       "        vertical-align: top;\n",
       "    }\n",
       "\n",
       "    .dataframe thead th {\n",
       "        text-align: right;\n",
       "    }\n",
       "</style>\n",
       "<table border=\"1\" class=\"dataframe\">\n",
       "  <thead>\n",
       "    <tr style=\"text-align: right;\">\n",
       "      <th></th>\n",
       "      <th>date</th>\n",
       "      <th>ticker</th>\n",
       "      <th>adj close</th>\n",
       "      <th>close</th>\n",
       "      <th>high</th>\n",
       "      <th>low</th>\n",
       "      <th>open</th>\n",
       "      <th>volume</th>\n",
       "    </tr>\n",
       "  </thead>\n",
       "  <tbody>\n",
       "    <tr>\n",
       "      <th>0</th>\n",
       "      <td>2014-04-28</td>\n",
       "      <td>A</td>\n",
       "      <td>35.332298</td>\n",
       "      <td>38.433475</td>\n",
       "      <td>39.291843</td>\n",
       "      <td>37.811157</td>\n",
       "      <td>39.234619</td>\n",
       "      <td>4206582.0</td>\n",
       "    </tr>\n",
       "    <tr>\n",
       "      <th>1</th>\n",
       "      <td>2014-04-28</td>\n",
       "      <td>AAL</td>\n",
       "      <td>33.146801</td>\n",
       "      <td>35.160000</td>\n",
       "      <td>36.720001</td>\n",
       "      <td>34.340000</td>\n",
       "      <td>36.410000</td>\n",
       "      <td>13149300.0</td>\n",
       "    </tr>\n",
       "    <tr>\n",
       "      <th>2</th>\n",
       "      <td>2014-04-28</td>\n",
       "      <td>AAPL</td>\n",
       "      <td>18.688702</td>\n",
       "      <td>21.217501</td>\n",
       "      <td>21.276787</td>\n",
       "      <td>20.448214</td>\n",
       "      <td>20.457144</td>\n",
       "      <td>669485600.0</td>\n",
       "    </tr>\n",
       "    <tr>\n",
       "      <th>3</th>\n",
       "      <td>2014-04-28</td>\n",
       "      <td>ABBV</td>\n",
       "      <td>33.703716</td>\n",
       "      <td>50.869999</td>\n",
       "      <td>50.919998</td>\n",
       "      <td>49.500000</td>\n",
       "      <td>49.549999</td>\n",
       "      <td>7932200.0</td>\n",
       "    </tr>\n",
       "    <tr>\n",
       "      <th>4</th>\n",
       "      <td>2014-04-28</td>\n",
       "      <td>ABT</td>\n",
       "      <td>31.691114</td>\n",
       "      <td>38.369999</td>\n",
       "      <td>38.419998</td>\n",
       "      <td>37.779999</td>\n",
       "      <td>38.279999</td>\n",
       "      <td>4433600.0</td>\n",
       "    </tr>\n",
       "  </tbody>\n",
       "</table>\n",
       "</div>"
      ],
      "text/plain": [
       "         date ticker  adj close      close       high        low       open  \\\n",
       "0  2014-04-28      A  35.332298  38.433475  39.291843  37.811157  39.234619   \n",
       "1  2014-04-28    AAL  33.146801  35.160000  36.720001  34.340000  36.410000   \n",
       "2  2014-04-28   AAPL  18.688702  21.217501  21.276787  20.448214  20.457144   \n",
       "3  2014-04-28   ABBV  33.703716  50.869999  50.919998  49.500000  49.549999   \n",
       "4  2014-04-28    ABT  31.691114  38.369999  38.419998  37.779999  38.279999   \n",
       "\n",
       "        volume  \n",
       "0    4206582.0  \n",
       "1   13149300.0  \n",
       "2  669485600.0  \n",
       "3    7932200.0  \n",
       "4    4433600.0  "
      ]
     },
     "execution_count": 40,
     "metadata": {},
     "output_type": "execute_result"
    }
   ],
   "source": [
    "# Load saved data\n",
    "df = pd.read_csv(\"data/yfdata.csv\")\n",
    "df.head()"
   ]
  },
  {
   "cell_type": "code",
   "execution_count": 41,
   "metadata": {},
   "outputs": [
    {
     "name": "stdout",
     "output_type": "stream",
     "text": [
      "<class 'pandas.core.frame.DataFrame'>\n",
      "RangeIndex: 1231853 entries, 0 to 1231852\n",
      "Data columns (total 8 columns):\n",
      " #   Column     Non-Null Count    Dtype  \n",
      "---  ------     --------------    -----  \n",
      " 0   date       1231853 non-null  object \n",
      " 1   ticker     1231853 non-null  object \n",
      " 2   adj close  1231853 non-null  float64\n",
      " 3   close      1231853 non-null  float64\n",
      " 4   high       1231853 non-null  float64\n",
      " 5   low        1231853 non-null  float64\n",
      " 6   open       1231853 non-null  float64\n",
      " 7   volume     1231853 non-null  float64\n",
      "dtypes: float64(6), object(2)\n",
      "memory usage: 75.2+ MB\n"
     ]
    }
   ],
   "source": [
    "df.info()"
   ]
  },
  {
   "cell_type": "code",
   "execution_count": null,
   "metadata": {},
   "outputs": [],
   "source": []
  }
 ],
 "metadata": {
  "kernelspec": {
   "display_name": "base",
   "language": "python",
   "name": "python3"
  },
  "language_info": {
   "codemirror_mode": {
    "name": "ipython",
    "version": 3
   },
   "file_extension": ".py",
   "mimetype": "text/x-python",
   "name": "python",
   "nbconvert_exporter": "python",
   "pygments_lexer": "ipython3",
   "version": "3.8.12"
  }
 },
 "nbformat": 4,
 "nbformat_minor": 2
}
